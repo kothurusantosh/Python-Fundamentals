{
 "cells": [
  {
   "cell_type": "code",
   "execution_count": null,
   "metadata": {},
   "outputs": [],
   "source": [
    "#Dictionary Datatypes continuation practice"
   ]
  },
  {
   "cell_type": "code",
   "execution_count": 2,
   "metadata": {},
   "outputs": [
    {
     "name": "stdout",
     "output_type": "stream",
     "text": [
      "{'brand': 'hero', 'model': 'passion', 'year': '2011'}\n"
     ]
    }
   ],
   "source": [
    "mybike = {'brand':'hero','model':'passion','year':'2011'}\n",
    "\n",
    "print(mybike)"
   ]
  },
  {
   "cell_type": "code",
   "execution_count": 3,
   "metadata": {},
   "outputs": [],
   "source": [
    "#adding new values to the dictionary\n",
    "\n",
    "mybike['colour'] = 'black'\n",
    "\n",
    "mybike['condition'] = 'good'"
   ]
  },
  {
   "cell_type": "code",
   "execution_count": 4,
   "metadata": {},
   "outputs": [
    {
     "name": "stdout",
     "output_type": "stream",
     "text": [
      "{'brand': 'hero', 'model': 'passion', 'year': '2011', 'colour': 'black', 'condition': 'good'}\n"
     ]
    }
   ],
   "source": [
    "print(mybike)"
   ]
  },
  {
   "cell_type": "code",
   "execution_count": null,
   "metadata": {},
   "outputs": [],
   "source": []
  },
  {
   "cell_type": "code",
   "execution_count": 6,
   "metadata": {},
   "outputs": [
    {
     "name": "stdout",
     "output_type": "stream",
     "text": [
      "{'brand': 'hero', 'model': 'passion', 'year': '2011', 'colour': 'red', 'condition': 'good'}\n"
     ]
    }
   ],
   "source": [
    "mybike['colour'] = 'red'  #changing existing value in dictionary\n",
    "\n",
    "print(mybike)"
   ]
  },
  {
   "cell_type": "code",
   "execution_count": null,
   "metadata": {},
   "outputs": [],
   "source": []
  },
  {
   "cell_type": "code",
   "execution_count": 22,
   "metadata": {},
   "outputs": [],
   "source": [
    "del mybike['year']  #to delete the \"year\" key from dictionary"
   ]
  },
  {
   "cell_type": "code",
   "execution_count": 23,
   "metadata": {},
   "outputs": [
    {
     "name": "stdout",
     "output_type": "stream",
     "text": [
      "{'brand': 'hero', 'model': 'passion', 'colour': 'red', 'condition': 'good'}\n"
     ]
    }
   ],
   "source": [
    "print(mybike)"
   ]
  },
  {
   "cell_type": "code",
   "execution_count": null,
   "metadata": {},
   "outputs": [],
   "source": []
  },
  {
   "cell_type": "code",
   "execution_count": 9,
   "metadata": {},
   "outputs": [],
   "source": [
    "x = mybike.pop('colour')"
   ]
  },
  {
   "cell_type": "code",
   "execution_count": 10,
   "metadata": {},
   "outputs": [
    {
     "name": "stdout",
     "output_type": "stream",
     "text": [
      "red\n"
     ]
    }
   ],
   "source": [
    "print(x)"
   ]
  },
  {
   "cell_type": "code",
   "execution_count": 11,
   "metadata": {},
   "outputs": [
    {
     "name": "stdout",
     "output_type": "stream",
     "text": [
      "{'brand': 'hero', 'model': 'passion', 'condition': 'good'}\n"
     ]
    }
   ],
   "source": [
    "print(mybike)"
   ]
  },
  {
   "cell_type": "code",
   "execution_count": null,
   "metadata": {},
   "outputs": [],
   "source": []
  },
  {
   "cell_type": "code",
   "execution_count": 15,
   "metadata": {},
   "outputs": [
    {
     "name": "stdout",
     "output_type": "stream",
     "text": [
      "{'brand': 'hero', 'model': 'passion', 'year': '2011', 'colour': 'red', 'condition': 'good'}\n"
     ]
    }
   ],
   "source": [
    "mybike = {'brand':'hero','model':'passion','year':'2011','colour':'red','condition':'good'}\n",
    "\n",
    "print(mybike)"
   ]
  },
  {
   "cell_type": "code",
   "execution_count": 16,
   "metadata": {},
   "outputs": [
    {
     "name": "stdout",
     "output_type": "stream",
     "text": [
      "brand\n",
      "hero\n",
      "model\n",
      "passion\n",
      "year\n",
      "2011\n",
      "colour\n",
      "red\n",
      "condition\n",
      "good\n"
     ]
    }
   ],
   "source": [
    "for x,y in mybike.items():\n",
    "    print(x)\n",
    "    print(y)"
   ]
  },
  {
   "cell_type": "code",
   "execution_count": 17,
   "metadata": {},
   "outputs": [
    {
     "name": "stdout",
     "output_type": "stream",
     "text": [
      "brand\n",
      "model\n",
      "year\n",
      "colour\n",
      "condition\n"
     ]
    }
   ],
   "source": [
    "#To see the bike keys \n",
    "\n",
    "for x in mybike.keys():\n",
    "    print(x)"
   ]
  },
  {
   "cell_type": "code",
   "execution_count": 18,
   "metadata": {},
   "outputs": [
    {
     "name": "stdout",
     "output_type": "stream",
     "text": [
      "hero\n",
      "passion\n",
      "2011\n",
      "red\n",
      "good\n"
     ]
    }
   ],
   "source": [
    "#to see the mybike values from given dictionary\n",
    "\n",
    "for y in mybike.values():\n",
    "    print(y)"
   ]
  },
  {
   "cell_type": "code",
   "execution_count": 20,
   "metadata": {},
   "outputs": [
    {
     "name": "stdout",
     "output_type": "stream",
     "text": [
      "entered bike keys are brand\n",
      "entered bike keys are model\n",
      "entered bike keys are year\n",
      "entered bike keys are colour\n",
      "entered bike keys are condition\n"
     ]
    }
   ],
   "source": [
    "for x in mybike.keys():\n",
    "    print(f\"entered bike keys are {x}\")"
   ]
  },
  {
   "cell_type": "code",
   "execution_count": 21,
   "metadata": {},
   "outputs": [
    {
     "name": "stdout",
     "output_type": "stream",
     "text": [
      "entered bike values are hero\n",
      "entered bike values are passion\n",
      "entered bike values are 2011\n",
      "entered bike values are red\n",
      "entered bike values are good\n"
     ]
    }
   ],
   "source": [
    "for y in mybike.values():\n",
    "    print(f\"entered bike values are {y}\")"
   ]
  },
  {
   "cell_type": "code",
   "execution_count": null,
   "metadata": {},
   "outputs": [],
   "source": []
  }
 ],
 "metadata": {
  "kernelspec": {
   "display_name": "Python 3",
   "language": "python",
   "name": "python3"
  },
  "language_info": {
   "codemirror_mode": {
    "name": "ipython",
    "version": 3
   },
   "file_extension": ".py",
   "mimetype": "text/x-python",
   "name": "python",
   "nbconvert_exporter": "python",
   "pygments_lexer": "ipython3",
   "version": "3.7.6"
  }
 },
 "nbformat": 4,
 "nbformat_minor": 4
}
