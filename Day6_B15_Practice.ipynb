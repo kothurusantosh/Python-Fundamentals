{
 "cells": [
  {
   "cell_type": "code",
   "execution_count": 4,
   "metadata": {},
   "outputs": [
    {
     "name": "stdout",
     "output_type": "stream",
     "text": [
      "['india', 'singapore', 'japan', 'malaysia', 'russia', 'sweeden']\n"
     ]
    }
   ],
   "source": [
    "countries = ['india','singapore','japan','malaysia','russia','sweeden']\n",
    "print(countries)"
   ]
  },
  {
   "cell_type": "code",
   "execution_count": 8,
   "metadata": {},
   "outputs": [
    {
     "name": "stdout",
     "output_type": "stream",
     "text": [
      "beautiful country in the world is, singapore\n"
     ]
    }
   ],
   "source": [
    "print(f\"beautiful country in the world is, {countries[1]}\")  #to see the 2nd name from list "
   ]
  },
  {
   "cell_type": "code",
   "execution_count": 5,
   "metadata": {},
   "outputs": [
    {
     "name": "stdout",
     "output_type": "stream",
     "text": [
      "india\n",
      "singapore\n",
      "japan\n",
      "malaysia\n",
      "russia\n",
      "sweeden\n"
     ]
    }
   ],
   "source": [
    "for country in countries:\n",
    "    print(country)"
   ]
  },
  {
   "cell_type": "code",
   "execution_count": 9,
   "metadata": {},
   "outputs": [
    {
     "name": "stdout",
     "output_type": "stream",
     "text": [
      " india is the beautiful country in the world \n",
      " singapore is the beautiful country in the world \n",
      " japan is the beautiful country in the world \n",
      " malaysia is the beautiful country in the world \n",
      " russia is the beautiful country in the world \n",
      " sweeden is the beautiful country in the world \n"
     ]
    }
   ],
   "source": [
    "for country in countries:\n",
    "    print(f\" {country} is the beautiful country in the world \")"
   ]
  },
  {
   "cell_type": "code",
   "execution_count": null,
   "metadata": {},
   "outputs": [],
   "source": []
  },
  {
   "cell_type": "code",
   "execution_count": 10,
   "metadata": {},
   "outputs": [
    {
     "name": "stdout",
     "output_type": "stream",
     "text": [
      " india is the beautiful country in the world \n",
      " india people are very good \n",
      "\n",
      " singapore is the beautiful country in the world \n",
      " singapore people are very good \n",
      "\n",
      " japan is the beautiful country in the world \n",
      " japan people are very good \n",
      "\n",
      " malaysia is the beautiful country in the world \n",
      " malaysia people are very good \n",
      "\n",
      " russia is the beautiful country in the world \n",
      " russia people are very good \n",
      "\n",
      " sweeden is the beautiful country in the world \n",
      " sweeden people are very good \n",
      "\n"
     ]
    }
   ],
   "source": [
    "for country in countries:\n",
    "    print(f\" {country} is the beautiful country in the world \")\n",
    "    print(f\" {country} people are very good \\n\")"
   ]
  },
  {
   "cell_type": "code",
   "execution_count": null,
   "metadata": {},
   "outputs": [],
   "source": []
  },
  {
   "cell_type": "code",
   "execution_count": 11,
   "metadata": {},
   "outputs": [
    {
     "name": "stdout",
     "output_type": "stream",
     "text": [
      "1\n",
      "2\n",
      "3\n",
      "4\n",
      "5\n",
      "6\n",
      "7\n",
      "8\n",
      "9\n",
      "10\n",
      "11\n",
      "12\n",
      "13\n",
      "14\n",
      "15\n",
      "16\n",
      "17\n",
      "18\n",
      "19\n",
      "20\n"
     ]
    }
   ],
   "source": [
    "for value in range(1,21):   #to print the numbers from 1 to 20\\\n",
    "    print(value)"
   ]
  },
  {
   "cell_type": "code",
   "execution_count": null,
   "metadata": {},
   "outputs": [],
   "source": []
  },
  {
   "cell_type": "code",
   "execution_count": 12,
   "metadata": {},
   "outputs": [
    {
     "name": "stdout",
     "output_type": "stream",
     "text": [
      "[1, 2, 3, 4, 5, 6, 7, 8, 9, 10, 11, 12, 13, 14, 15, 16, 17, 18, 19]\n"
     ]
    }
   ],
   "source": [
    "numbers = list(range(1,20))\n",
    "print(numbers)"
   ]
  },
  {
   "cell_type": "code",
   "execution_count": null,
   "metadata": {},
   "outputs": [],
   "source": []
  },
  {
   "cell_type": "code",
   "execution_count": null,
   "metadata": {},
   "outputs": [],
   "source": []
  },
  {
   "cell_type": "code",
   "execution_count": null,
   "metadata": {},
   "outputs": [],
   "source": []
  },
  {
   "cell_type": "code",
   "execution_count": null,
   "metadata": {},
   "outputs": [],
   "source": []
  }
 ],
 "metadata": {
  "kernelspec": {
   "display_name": "Python 3",
   "language": "python",
   "name": "python3"
  },
  "language_info": {
   "codemirror_mode": {
    "name": "ipython",
    "version": 3
   },
   "file_extension": ".py",
   "mimetype": "text/x-python",
   "name": "python",
   "nbconvert_exporter": "python",
   "pygments_lexer": "ipython3",
   "version": "3.7.6"
  }
 },
 "nbformat": 4,
 "nbformat_minor": 4
}
